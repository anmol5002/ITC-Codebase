{
 "cells": [
  {
   "cell_type": "code",
   "execution_count": null,
   "metadata": {},
   "outputs": [],
   "source": [
    "import cv2\n",
    "import numpy as np\n",
    "import os\n",
    "import glob2 \n",
    "import matplotlib.pyplot as plt                                                                     # Libraries imported\n",
    "import numpy as np\n",
    "from scipy import misc, ndimage\n",
    "import keras\n",
    "from keras import backend as K\n",
    "from keras.preprocessing.image import ImageDataGenerator      # Library used for augmentation of images"
   ]
  },
  {
   "cell_type": "code",
   "execution_count": null,
   "metadata": {},
   "outputs": [],
   "source": [
    "img_dir = r\"C:\\Users\\itc.DESKTOP-RF2G1DL\\Desktop\\LID DAMAGE\"              # input image directory\n",
    "save_file_path = \"C:/Users/itc.DESKTOP-RF2G1DL/Desktop/defective\"         # output image directory "
   ]
  },
  {
   "cell_type": "code",
   "execution_count": null,
   "metadata": {},
   "outputs": [],
   "source": [
    "if not os.path.exists(save_file_path):\n",
    "    os.mkdir(save_file_path)         # if that kind of save_file_path not available make a folder automatically"
   ]
  },
  {
   "cell_type": "code",
   "execution_count": null,
   "metadata": {},
   "outputs": [],
   "source": [
    "def box(img,array):\n",
    "    pts1 = np.float32(array)                                            # function to make an image of size 224*224 pixels\n",
    "    pts2 = np.float32([[0,0],[223,0],[233,233],[0,233]])\n",
    "    M = cv2.getPerspectiveTransform(pts1,pts2)\n",
    "    dst = cv2.warpPerspective(img,M,(224,224))\n",
    "    return dst\n",
    "\n",
    "\n",
    "data_path = os.path.join(img_dir,'*g')\n",
    "files = glob2.glob(data_path)                                            # makes an array of image paths in input directory\n",
    "\n",
    "num=0                                         \n",
    "\n",
    "for f1 in files:                                                          # this loop performs a similar function on each image\n",
    "    image = cv2.imread(f1,1)\n",
    "#     array_cam2_short=[[350,342],[599,342],[599,580],[350,580]]\n",
    "#     array_cam2_toplid=[[501,292],[943,292],[943,564],[501,564]]\n",
    "#     array_cam2_long=[[78,12],[453,286],[382,516],[18,253]]                # cropping an image based on coordinates (input coordinates)\n",
    "#     array_cam3_short=[[740,21],[956,21],[956,256],[740,256]]\n",
    "#     array_cam3_long =[[440,320],[822,78],[869,292],[484,585]]\n",
    "    array_cam3_label=[[0,260],[525,260],[525,590],[0,590]]\n",
    "#     array_cam4 = [[20,0],[396,0],[396,595],[20,595]]\n",
    "    image=box(image,array_cam3_label)\n",
    "    cv2.imwrite(save_file_path+'/pic'+str(num)+'.jpg', image)\n",
    "    num+=1\n"
   ]
  },
  {
   "cell_type": "code",
   "execution_count": null,
   "metadata": {},
   "outputs": [],
   "source": [
    "########################### code for augmentation of images ######################################\n",
    "################## Do not run this section if do not want augmented images  #########################\n",
    "\n",
    "img_dir = save_file_path                                        # Input image directory      \n",
    "output_path = save_file_path                                    # Output image directory , Here both input and output directory are same\n",
    "num_aug = 4                                                     # Number of augmented images created\n",
    "data_path = os.path.join(img_dir,'*g')\n",
    "files = glob2.glob(data_path)\n",
    "\n",
    "gen = ImageDataGenerator(rotation_range=7,height_shift_range=0.1,channel_shift_range=10., horizontal_flip=False,brightness_range=(0.8, 1.0))\n",
    "\n",
    "for f1 in files:                                                                                 # function called to perform augmentation on each image\n",
    "    image = np.expand_dims(plt.imread(f1),0)\n",
    "    aug_iter = gen.flow(image,save_to_dir= output_path , save_prefix='aug', save_format='jpg') \n",
    "    aug_images = [next(aug_iter)[0].astype(np.uint8) for i in range(num_aug)]              \n"
   ]
  }
 ],
 "metadata": {
  "kernelspec": {
   "display_name": "Python 3",
   "language": "python",
   "name": "python3"
  },
  "language_info": {
   "codemirror_mode": {
    "name": "ipython",
    "version": 3
   },
   "file_extension": ".py",
   "mimetype": "text/x-python",
   "name": "python",
   "nbconvert_exporter": "python",
   "pygments_lexer": "ipython3",
   "version": "3.8.3rc1"
  }
 },
 "nbformat": 4,
 "nbformat_minor": 4
}
